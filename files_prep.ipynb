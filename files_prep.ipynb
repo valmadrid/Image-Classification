{
 "cells": [
  {
   "cell_type": "markdown",
   "id": "2daf7b86",
   "metadata": {},
   "source": [
    "#### From Author:\n",
    "\n",
    "##### Folder structure\n",
    "There are 15 different kind of fruits consisting of 44406 images. For 15 different categories\n",
    "there are 15 folders in our dataset and their sub-categories of fruits were kept in sub-folders like\n",
    "for apple there is one folder and inside the main folder there are six sub-folders for subcategories.\n",
    "Sub-categories of all fruits are exit in their relevant sub-folders\n",
    "\n",
    "##### Data collection\n",
    "The database used in this study is comprising of 44406 fruit images, which we collected\n",
    "in a period of 6 months. The images where made with in our lab’s environment under different\n",
    "scenarios which we mention below. We captured all the images on a clear background with\n",
    "resolution of 320×258 pixels. We used HD Logitech web camera to took the pictures. During\n",
    "collecting this database, we created all kind of challenges, which, we have to face in real-world\n",
    "recognition scenarios in supermarket and fruit shops such as light, shadow, sunshine, pose\n",
    "variation, to make our model robust for, it might be necessary to cope with illumination\n",
    "variation, camera capturing artifacts, specular reflection shading and shadows. We tested our\n",
    "model’s robustness in all scenarios and it perform quit well.\n",
    "All of images were stored in RGB color-space at 8 bits per channel. The images were\n",
    "gathered at various day times of the day and in different days for the same category. These\n",
    "features increase the dataset variability and represent more realistic scenario. The Images had\n",
    "large variation in quality and lighting. Illumination is one of those variations in imagery. In fact,\n",
    "illumination can make two images of same fruit less similar than two images of different kind\n",
    "of fruits. We were used our own intelligent weight machine and camera to captured all images.\n",
    "The fruit dataset was collected under relatively unconstrained conditions. There are also images\n",
    "with the room light on and room lights off, moved the camera and intelligent weight machine\n",
    "near to the windows of our lab than open windows, closed windows, open window curtains,\n",
    "closed curtains. For a real application in a supermarket, it might be necessary to cope with\n",
    "illumination variation, camera capturing artifacts, specular reflection shading and shadows.\n",
    "Below are the few conditions which we were considered during collected dataset.\n",
    "\n",
    "##### Pose Variations with different categories of fruits\n",
    "- Variability on the number of elements of fruits\n",
    "- Used HD camera with 5-megapixel snapshots\n",
    "- Same color but different Category fruits images with illumination variation\n",
    "- Cropping and partial occlusion\n",
    "- Different color same category fruit images\n",
    "- Different lighting conditions (e.g. fluorescent, natural light some of the fruits shops\n",
    "- and supermarkets are without sunshine so it can easily affect the recognition system\n",
    "- Six different kind of apple fruit images\n",
    "- Three categories of mango fruit with specular reflecting shading and shadows\n",
    "- Three categories of Kiwi fruit images\n",
    "- Natural and artificial lighting effect on images\n",
    "- Partial occlusion with hand\n",
    "\n",
    "Israr Hussain,, Qianhua He, Zhuliang Chen, & Wei Xie. (2018). Fruit Recognition dataset (Version V 1.0) [Data set]. Zenodo. http://doi.org/10.5281/zenodo.1310165"
   ]
  },
  {
   "cell_type": "code",
   "execution_count": 14,
   "id": "b824df4b",
   "metadata": {
    "ExecuteTime": {
     "end_time": "2021-07-14T14:55:28.316694Z",
     "start_time": "2021-07-14T14:55:28.314201Z"
    }
   },
   "outputs": [],
   "source": [
    "import os\n",
    "import shutil\n",
    "import random"
   ]
  },
  {
   "cell_type": "code",
   "execution_count": 15,
   "id": "ed01ad30",
   "metadata": {
    "ExecuteTime": {
     "end_time": "2021-07-14T14:56:05.328261Z",
     "start_time": "2021-07-14T14:55:32.056608Z"
    }
   },
   "outputs": [],
   "source": [
    "%matplotlib inline\n",
    "import matplotlib.pyplot as plt\n",
    "import matplotlib.image as mpimg\n",
    "import seaborn as sns"
   ]
  },
  {
   "cell_type": "code",
   "execution_count": 2,
   "id": "7cbe82d7",
   "metadata": {
    "ExecuteTime": {
     "end_time": "2021-07-14T14:33:13.455754Z",
     "start_time": "2021-07-14T14:33:13.446309Z"
    }
   },
   "outputs": [
    {
     "data": {
      "text/plain": [
       "True"
      ]
     },
     "execution_count": 2,
     "metadata": {},
     "output_type": "execute_result"
    }
   ],
   "source": [
    "dataset_dir = \"../Image-Classification/orig_dataset/\"\n",
    "os.path.exists(dataset_dir)"
   ]
  },
  {
   "cell_type": "code",
   "execution_count": 3,
   "id": "536a8434",
   "metadata": {
    "ExecuteTime": {
     "end_time": "2021-07-14T14:33:14.493783Z",
     "start_time": "2021-07-14T14:33:14.489737Z"
    }
   },
   "outputs": [
    {
     "data": {
      "text/plain": [
       "['Apple',\n",
       " 'Pear',\n",
       " 'Pomegranate',\n",
       " 'StarFruit',\n",
       " 'Tomatoes',\n",
       " '.DS_Store',\n",
       " 'Kiwi',\n",
       " 'Guava',\n",
       " 'Plum',\n",
       " 'Mango',\n",
       " 'Muskmelon',\n",
       " 'Banana',\n",
       " 'DragonFruit',\n",
       " 'Persimmon',\n",
       " 'Orange',\n",
       " 'Peach']"
      ]
     },
     "execution_count": 3,
     "metadata": {},
     "output_type": "execute_result"
    }
   ],
   "source": [
    " os.listdir(dataset_dir)"
   ]
  },
  {
   "cell_type": "markdown",
   "id": "6e15d9c6",
   "metadata": {},
   "source": [
    "#### Check files in each subfolder:"
   ]
  },
  {
   "cell_type": "code",
   "execution_count": 5,
   "id": "e378a5eb",
   "metadata": {
    "ExecuteTime": {
     "end_time": "2021-07-14T14:34:29.377988Z",
     "start_time": "2021-07-14T14:34:29.264840Z"
    }
   },
   "outputs": [
    {
     "data": {
      "text/plain": [
       "{'', '.jpeg', '.jpg', '.png'}"
      ]
     },
     "execution_count": 5,
     "metadata": {},
     "output_type": "execute_result"
    }
   ],
   "source": [
    "# File extensions:\n",
    "\n",
    "set([\n",
    "    os.path.splitext(file)[-1] for folder in os.listdir(dataset_dir)\n",
    "    if os.path.isdir(dataset_dir + folder)\n",
    "    for file in os.listdir(os.path.join(dataset_dir, folder))\n",
    "])"
   ]
  },
  {
   "cell_type": "code",
   "execution_count": 4,
   "id": "083c6f5b",
   "metadata": {
    "ExecuteTime": {
     "end_time": "2021-07-14T14:34:21.534433Z",
     "start_time": "2021-07-14T14:34:21.417783Z"
    },
    "scrolled": true
   },
   "outputs": [
    {
     "data": {
      "text/plain": [
       "{'Apple': 5024,\n",
       " 'Pear': 3012,\n",
       " 'Pomegranate': 2167,\n",
       " 'StarFruit': 2080,\n",
       " 'Tomatoes': 2171,\n",
       " 'Kiwi': 4173,\n",
       " 'Guava': 4008,\n",
       " 'Plum': 2298,\n",
       " 'Mango': 4154,\n",
       " 'Muskmelon': 2078,\n",
       " 'Banana': 3027,\n",
       " 'DragonFruit': 2501,\n",
       " 'Persimmon': 2072,\n",
       " 'Orange': 3012,\n",
       " 'Peach': 2629}"
      ]
     },
     "execution_count": 4,
     "metadata": {},
     "output_type": "execute_result"
    }
   ],
   "source": [
    "# No. of images per fruit/class:\n",
    "\n",
    "fruit_list = dict(\n",
    "    zip([\n",
    "        folder for folder in os.listdir(dataset_dir)\n",
    "        if os.path.isdir(dataset_dir + folder)\n",
    "    ], [\n",
    "        len([\n",
    "            img for img in os.listdir(dataset_dir + folder)\n",
    "            if os.path.splitext(dataset_dir + folder +\n",
    "                                img)[-1] in ['.jpeg', '.jpg', '.png']\n",
    "        ]) for folder in os.listdir(dataset_dir)\n",
    "        if os.path.isdir(dataset_dir + folder)\n",
    "    ]))\n",
    "fruit_list"
   ]
  },
  {
   "cell_type": "code",
   "execution_count": 12,
   "id": "10021a4d",
   "metadata": {
    "ExecuteTime": {
     "end_time": "2021-07-14T14:54:23.613223Z",
     "start_time": "2021-07-14T14:54:23.609509Z"
    }
   },
   "outputs": [
    {
     "data": {
      "text/plain": [
       "44406"
      ]
     },
     "execution_count": 12,
     "metadata": {},
     "output_type": "execute_result"
    }
   ],
   "source": [
    "sum(fruit_list.values())"
   ]
  },
  {
   "cell_type": "code",
   "execution_count": null,
   "id": "2ea5eca5",
   "metadata": {},
   "outputs": [],
   "source": []
  },
  {
   "cell_type": "markdown",
   "id": "41fd082a",
   "metadata": {},
   "source": [
    "#### Create new folder for the dataset with train and test subfolders:"
   ]
  },
  {
   "cell_type": "code",
   "execution_count": 7,
   "id": "a6045f8a",
   "metadata": {
    "ExecuteTime": {
     "end_time": "2021-07-14T14:48:20.050295Z",
     "start_time": "2021-07-14T14:48:20.044834Z"
    }
   },
   "outputs": [
    {
     "data": {
      "text/plain": [
       "['.DS_Store', 'test', 'train']"
      ]
     },
     "execution_count": 7,
     "metadata": {},
     "output_type": "execute_result"
    }
   ],
   "source": [
    "new_dataset_dir = \"../Image-Classification/dataset/\"\n",
    "\n",
    "if not os.path.exists(new_dataset_dir):\n",
    "    os.mkdir(new_dataset_dir)\n",
    "\n",
    "for folder in ['train', 'test']:\n",
    "    new_dir = os.path.join(new_dataset_dir, folder)\n",
    "    os.mkdir(new_dir)\n",
    "\n",
    "os.listdir(new_dataset_dir)"
   ]
  },
  {
   "cell_type": "markdown",
   "id": "093d3c5f",
   "metadata": {},
   "source": [
    "#### Copy images under each fruit folder to the new dataset folder. 1000 as train, the rest as test:"
   ]
  },
  {
   "cell_type": "code",
   "execution_count": 8,
   "id": "b0b1cabe",
   "metadata": {
    "ExecuteTime": {
     "end_time": "2021-07-14T14:51:20.710631Z",
     "start_time": "2021-07-14T14:50:01.251347Z"
    }
   },
   "outputs": [],
   "source": [
    "for key, val in fruit_list.items():\n",
    "    old_dir = os.path.join(dataset_dir, key)\n",
    "    img_files = [\n",
    "        img for img in os.listdir(old_dir) if any(\n",
    "            img.endswith(i) for i in ['.jpeg', '.jpg', '.png'])\n",
    "    ]\n",
    "\n",
    "    train_files = random.choices(img_files, k=1000)\n",
    "    train_dir = os.path.join(new_dataset_dir, \"train\", key)\n",
    "    os.mkdir(train_dir)\n",
    "    test_files = [\n",
    "        img for img in img_files\n",
    "        if any(img.endswith(i)\n",
    "               for i in ['.jpeg', '.jpg', '.png']) and img not in train_files\n",
    "    ]\n",
    "    test_dir = os.path.join(new_dataset_dir, \"test\", key)\n",
    "    os.mkdir(test_dir)\n",
    "\n",
    "    for img in train_files:\n",
    "        shutil.copy(os.path.join(old_dir, img), os.path.join(train_dir, img))\n",
    "    for img in test_files:\n",
    "        shutil.copy(os.path.join(old_dir, img), os.path.join(test_dir, img))\n",
    "\n",
    "#     i = 0\n",
    "#     for img in train_files:\n",
    "#         if len(os.listdir(train_dir)) == 75:\n",
    "#             break\n",
    "#         try:\n",
    "#             shutil.copy(os.path.join(old_dir, img),\n",
    "#                         os.path.join(train_dir, img))\n",
    "#             i += 1\n",
    "#         except:\n",
    "#             continue\n",
    "\n",
    "#     i = 0\n",
    "#     for img in test_files:\n",
    "#         if len(os.listdir(test_dir)) == 25:\n",
    "#             break\n",
    "#         try:\n",
    "#             shutil.copy(os.path.join(old_dir, img),\n",
    "#                         os.path.join(test_dir, img))\n",
    "#             i += 1\n",
    "#         except:\n",
    "#             continue"
   ]
  },
  {
   "cell_type": "code",
   "execution_count": 9,
   "id": "c0663c36",
   "metadata": {
    "ExecuteTime": {
     "end_time": "2021-07-14T14:51:20.728401Z",
     "start_time": "2021-07-14T14:51:20.724508Z"
    }
   },
   "outputs": [
    {
     "data": {
      "text/plain": [
       "('../Image-Classification/dataset/train/Peach',\n",
       " '../Image-Classification/dataset/test/Peach')"
      ]
     },
     "execution_count": 9,
     "metadata": {},
     "output_type": "execute_result"
    }
   ],
   "source": [
    "train_dir, test_dir"
   ]
  },
  {
   "cell_type": "code",
   "execution_count": 10,
   "id": "2a2733c7",
   "metadata": {
    "ExecuteTime": {
     "end_time": "2021-07-14T14:51:20.751367Z",
     "start_time": "2021-07-14T14:51:20.744455Z"
    }
   },
   "outputs": [
    {
     "data": {
      "text/plain": [
       "(818, 1811)"
      ]
     },
     "execution_count": 10,
     "metadata": {},
     "output_type": "execute_result"
    }
   ],
   "source": [
    "len(os.listdir(train_dir)), len(os.listdir(test_dir))"
   ]
  },
  {
   "cell_type": "code",
   "execution_count": null,
   "id": "a5e238a0",
   "metadata": {},
   "outputs": [],
   "source": []
  }
 ],
 "metadata": {
  "kernelspec": {
   "display_name": "Python [conda env:root] *",
   "language": "python",
   "name": "conda-root-py"
  },
  "language_info": {
   "codemirror_mode": {
    "name": "ipython",
    "version": 3
   },
   "file_extension": ".py",
   "mimetype": "text/x-python",
   "name": "python",
   "nbconvert_exporter": "python",
   "pygments_lexer": "ipython3",
   "version": "3.7.3"
  },
  "toc": {
   "base_numbering": 1,
   "nav_menu": {},
   "number_sections": false,
   "sideBar": true,
   "skip_h1_title": false,
   "title_cell": "Table of Contents",
   "title_sidebar": "Contents",
   "toc_cell": false,
   "toc_position": {
    "height": "calc(100% - 180px)",
    "left": "10px",
    "top": "150px",
    "width": "336px"
   },
   "toc_section_display": true,
   "toc_window_display": false
  },
  "varInspector": {
   "cols": {
    "lenName": 16,
    "lenType": 16,
    "lenVar": 40
   },
   "kernels_config": {
    "python": {
     "delete_cmd_postfix": "",
     "delete_cmd_prefix": "del ",
     "library": "var_list.py",
     "varRefreshCmd": "print(var_dic_list())"
    },
    "r": {
     "delete_cmd_postfix": ") ",
     "delete_cmd_prefix": "rm(",
     "library": "var_list.r",
     "varRefreshCmd": "cat(var_dic_list()) "
    }
   },
   "types_to_exclude": [
    "module",
    "function",
    "builtin_function_or_method",
    "instance",
    "_Feature"
   ],
   "window_display": false
  }
 },
 "nbformat": 4,
 "nbformat_minor": 5
}
