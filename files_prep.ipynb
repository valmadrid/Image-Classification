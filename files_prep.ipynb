{
 "cells": [
  {
   "cell_type": "code",
   "execution_count": 1,
   "id": "b824df4b",
   "metadata": {
    "ExecuteTime": {
     "end_time": "2021-07-13T08:47:51.513636Z",
     "start_time": "2021-07-13T08:47:51.511075Z"
    }
   },
   "outputs": [],
   "source": [
    "import os\n",
    "import shutil\n",
    "import random"
   ]
  },
  {
   "cell_type": "code",
   "execution_count": 2,
   "id": "7cbe82d7",
   "metadata": {
    "ExecuteTime": {
     "end_time": "2021-07-13T08:48:02.858850Z",
     "start_time": "2021-07-13T08:48:02.849765Z"
    }
   },
   "outputs": [
    {
     "data": {
      "text/plain": [
       "True"
      ]
     },
     "execution_count": 2,
     "metadata": {},
     "output_type": "execute_result"
    }
   ],
   "source": [
    "dataset_dir = \"../Image-Classification/orig_dataset/\"\n",
    "os.path.exists(dataset_dir)"
   ]
  },
  {
   "cell_type": "markdown",
   "id": "6e15d9c6",
   "metadata": {},
   "source": [
    "#### Check files in each subfolder:"
   ]
  },
  {
   "cell_type": "code",
   "execution_count": 3,
   "id": "083c6f5b",
   "metadata": {
    "ExecuteTime": {
     "end_time": "2021-07-13T08:48:04.200876Z",
     "start_time": "2021-07-13T08:48:03.825191Z"
    },
    "scrolled": true
   },
   "outputs": [
    {
     "data": {
      "text/plain": [
       "{'Apple': 4466,\n",
       " 'Pear': 3012,\n",
       " 'Pomegranate': 2167,\n",
       " 'StarFruit': 2080,\n",
       " 'Tomatoes': 2171,\n",
       " 'Kiwi': 4173,\n",
       " 'Guava': 4008,\n",
       " 'Plum': 2298,\n",
       " 'Mango': 4154,\n",
       " 'Muskmelon': 2078,\n",
       " 'Banana': 3027,\n",
       " 'DragonFruit': 2501,\n",
       " 'Persimmon': 2072,\n",
       " 'Orange': 3012,\n",
       " 'Peach': 2629}"
      ]
     },
     "execution_count": 3,
     "metadata": {},
     "output_type": "execute_result"
    }
   ],
   "source": [
    "fruit_list = dict(\n",
    "    zip([\n",
    "        folder for folder in os.listdir(dataset_dir)\n",
    "        if os.path.isdir(dataset_dir + folder)\n",
    "    ], [\n",
    "        len([\n",
    "            png for png in os.listdir(dataset_dir + folder)\n",
    "            if os.path.splitext(dataset_dir + folder + png)[-1] == '.png'\n",
    "        ]) for folder in os.listdir(dataset_dir)\n",
    "        if os.path.isdir(dataset_dir + folder)\n",
    "    ]))\n",
    "fruit_list"
   ]
  },
  {
   "cell_type": "markdown",
   "id": "41fd082a",
   "metadata": {},
   "source": [
    "#### Create new folder for the dataset with train and test subfolders:"
   ]
  },
  {
   "cell_type": "code",
   "execution_count": 22,
   "id": "a6045f8a",
   "metadata": {
    "ExecuteTime": {
     "end_time": "2021-07-13T09:15:53.377460Z",
     "start_time": "2021-07-13T09:15:53.372131Z"
    }
   },
   "outputs": [
    {
     "data": {
      "text/plain": [
       "['test', 'train']"
      ]
     },
     "execution_count": 22,
     "metadata": {},
     "output_type": "execute_result"
    }
   ],
   "source": [
    "new_dataset_dir = \"../Image-Classification/dataset/\"\n",
    "if not os.path.exists(new_dataset_dir):\n",
    "    os.mkdir(new_dataset_dir)\n",
    "    for folder in ['train', 'test']:\n",
    "        new_dir = os.path.join(new_dataset_dir, folder)\n",
    "        os.mkdir(new_dir)\n",
    "\n",
    "os.listdir(new_dataset_dir)"
   ]
  },
  {
   "cell_type": "markdown",
   "id": "093d3c5f",
   "metadata": {},
   "source": [
    "#### Copy 100 random images (75 and 25 to train and test, resp.) of each fruit to the new dataset folder:"
   ]
  },
  {
   "cell_type": "code",
   "execution_count": 23,
   "id": "b0b1cabe",
   "metadata": {
    "ExecuteTime": {
     "end_time": "2021-07-13T09:15:59.399541Z",
     "start_time": "2021-07-13T09:15:57.373994Z"
    }
   },
   "outputs": [],
   "source": [
    "for key, val in fruit_list.items():\n",
    "    old_dir = os.path.join(dataset_dir, key)\n",
    "    png_files = [png for png in os.listdir(old_dir) if png.endswith('.png')]\n",
    "\n",
    "    train_files = random.choices(png_files, k=500)\n",
    "    train_dir = os.path.join(new_dataset_dir, \"train\", key)\n",
    "    os.mkdir(train_dir)\n",
    "\n",
    "    test_files = random.choices([\n",
    "        png\n",
    "        for png in png_files if png.endswith('.png') and png not in train_files\n",
    "    ],\n",
    "                                k=500)\n",
    "    test_dir = os.path.join(new_dataset_dir, \"test\", key)\n",
    "    os.mkdir(test_dir)\n",
    "\n",
    "    i = 0\n",
    "    for png in train_files:\n",
    "        if len(os.listdir(train_dir)) == 75:\n",
    "            break\n",
    "        try:\n",
    "            shutil.copy(os.path.join(old_dir, png),\n",
    "                        os.path.join(train_dir, png))\n",
    "            i += 1\n",
    "        except:\n",
    "            continue\n",
    "\n",
    "    i = 0\n",
    "    for png in test_files:\n",
    "        if len(os.listdir(test_dir)) == 25:\n",
    "            break\n",
    "        try:\n",
    "            shutil.copy(os.path.join(old_dir, png),\n",
    "                        os.path.join(test_dir, png))\n",
    "            i += 1\n",
    "        except:\n",
    "            continue"
   ]
  },
  {
   "cell_type": "code",
   "execution_count": 24,
   "id": "c0663c36",
   "metadata": {
    "ExecuteTime": {
     "end_time": "2021-07-13T09:16:01.383266Z",
     "start_time": "2021-07-13T09:16:01.379632Z"
    }
   },
   "outputs": [
    {
     "data": {
      "text/plain": [
       "('../Image-Classification/dataset/train/Peach',\n",
       " '../Image-Classification/dataset/test/Peach')"
      ]
     },
     "execution_count": 24,
     "metadata": {},
     "output_type": "execute_result"
    }
   ],
   "source": [
    "train_dir, test_dir"
   ]
  },
  {
   "cell_type": "code",
   "execution_count": 25,
   "id": "2a2733c7",
   "metadata": {
    "ExecuteTime": {
     "end_time": "2021-07-13T09:16:02.314826Z",
     "start_time": "2021-07-13T09:16:02.310553Z"
    }
   },
   "outputs": [
    {
     "data": {
      "text/plain": [
       "(75, 25)"
      ]
     },
     "execution_count": 25,
     "metadata": {},
     "output_type": "execute_result"
    }
   ],
   "source": [
    "len(os.listdir(train_dir)), len(os.listdir(test_dir))"
   ]
  },
  {
   "cell_type": "code",
   "execution_count": null,
   "id": "a5e238a0",
   "metadata": {},
   "outputs": [],
   "source": []
  }
 ],
 "metadata": {
  "kernelspec": {
   "display_name": "Python [conda env:learn-env] *",
   "language": "python",
   "name": "conda-env-learn-env-py"
  },
  "language_info": {
   "codemirror_mode": {
    "name": "ipython",
    "version": 3
   },
   "file_extension": ".py",
   "mimetype": "text/x-python",
   "name": "python",
   "nbconvert_exporter": "python",
   "pygments_lexer": "ipython3",
   "version": "3.9.0"
  },
  "toc": {
   "base_numbering": 1,
   "nav_menu": {},
   "number_sections": false,
   "sideBar": true,
   "skip_h1_title": false,
   "title_cell": "Table of Contents",
   "title_sidebar": "Contents",
   "toc_cell": false,
   "toc_position": {
    "height": "calc(100% - 180px)",
    "left": "10px",
    "top": "150px",
    "width": "336px"
   },
   "toc_section_display": true,
   "toc_window_display": false
  },
  "varInspector": {
   "cols": {
    "lenName": 16,
    "lenType": 16,
    "lenVar": 40
   },
   "kernels_config": {
    "python": {
     "delete_cmd_postfix": "",
     "delete_cmd_prefix": "del ",
     "library": "var_list.py",
     "varRefreshCmd": "print(var_dic_list())"
    },
    "r": {
     "delete_cmd_postfix": ") ",
     "delete_cmd_prefix": "rm(",
     "library": "var_list.r",
     "varRefreshCmd": "cat(var_dic_list()) "
    }
   },
   "types_to_exclude": [
    "module",
    "function",
    "builtin_function_or_method",
    "instance",
    "_Feature"
   ],
   "window_display": false
  }
 },
 "nbformat": 4,
 "nbformat_minor": 5
}
