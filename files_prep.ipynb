{
 "cells": [
  {
   "cell_type": "markdown",
   "id": "a6530117",
   "metadata": {},
   "source": [
    "#### From Author:\n",
    "\n",
    "##### Folder structure\n",
    "There are 15 different kind of fruits consisting of 44406 images. For 15 different categories\n",
    "there are 15 folders in our dataset and their sub-categories of fruits were kept in sub-folders like\n",
    "for apple there is one folder and inside the main folder there are six sub-folders for subcategories.\n",
    "Sub-categories of all fruits are exit in their relevant sub-folders\n",
    "\n",
    "##### Data collection\n",
    "The database used in this study is comprising of 44406 fruit images, which we collected\n",
    "in a period of 6 months. The images where made with in our lab’s environment under different\n",
    "scenarios which we mention below. We captured all the images on a clear background with\n",
    "resolution of 320×258 pixels. We used HD Logitech web camera to took the pictures. During\n",
    "collecting this database, we created all kind of challenges, which, we have to face in real-world\n",
    "recognition scenarios in supermarket and fruit shops such as light, shadow, sunshine, pose\n",
    "variation, to make our model robust for, it might be necessary to cope with illumination\n",
    "variation, camera capturing artifacts, specular reflection shading and shadows. We tested our\n",
    "model’s robustness in all scenarios and it perform quit well.\n",
    "All of images were stored in RGB color-space at 8 bits per channel. The images were\n",
    "gathered at various day times of the day and in different days for the same category. These\n",
    "features increase the dataset variability and represent more realistic scenario. The Images had\n",
    "large variation in quality and lighting. Illumination is one of those variations in imagery. In fact,\n",
    "illumination can make two images of same fruit less similar than two images of different kind\n",
    "of fruits. We were used our own intelligent weight machine and camera to captured all images.\n",
    "The fruit dataset was collected under relatively unconstrained conditions. There are also images\n",
    "with the room light on and room lights off, moved the camera and intelligent weight machine\n",
    "near to the windows of our lab than open windows, closed windows, open window curtains,\n",
    "closed curtains. For a real application in a supermarket, it might be necessary to cope with\n",
    "illumination variation, camera capturing artifacts, specular reflection shading and shadows.\n",
    "Below are the few conditions which we were considered during collected dataset.\n",
    "\n",
    "##### Pose Variations with different categories of fruits\n",
    "- Variability on the number of elements of fruits\n",
    "- Used HD camera with 5-megapixel snapshots\n",
    "- Same color but different Category fruits images with illumination variation\n",
    "- Cropping and partial occlusion\n",
    "- Different color same category fruit images\n",
    "- Different lighting conditions (e.g. fluorescent, natural light some of the fruits shops\n",
    "- and supermarkets are without sunshine so it can easily affect the recognition system\n",
    "- Six different kind of apple fruit images\n",
    "- Three categories of mango fruit with specular reflecting shading and shadows\n",
    "- Three categories of Kiwi fruit images\n",
    "- Natural and artificial lighting effect on images\n",
    "- Partial occlusion with hand\n",
    "\n",
    "Israr Hussain,, Qianhua He, Zhuliang Chen, & Wei Xie. (2018). Fruit Recognition dataset (Version V 1.0) [Data set]. Zenodo. http://doi.org/10.5281/zenodo.1310165"
   ]
  },
  {
   "cell_type": "code",
   "execution_count": 1,
   "id": "b824df4b",
   "metadata": {
    "ExecuteTime": {
     "end_time": "2021-07-15T14:29:47.582653Z",
     "start_time": "2021-07-15T14:29:47.580127Z"
    }
   },
   "outputs": [],
   "source": [
    "import os\n",
    "import shutil\n",
    "import random"
   ]
  },
  {
   "cell_type": "code",
   "execution_count": 2,
   "id": "f390a657",
   "metadata": {
    "ExecuteTime": {
     "end_time": "2021-07-15T14:29:51.240141Z",
     "start_time": "2021-07-15T14:29:49.983233Z"
    }
   },
   "outputs": [],
   "source": [
    "%matplotlib inline\n",
    "import matplotlib.pyplot as plt\n",
    "import matplotlib.image as mpimg\n",
    "import seaborn as sns"
   ]
  },
  {
   "cell_type": "code",
   "execution_count": 3,
   "id": "7cbe82d7",
   "metadata": {
    "ExecuteTime": {
     "end_time": "2021-07-15T14:30:01.916125Z",
     "start_time": "2021-07-15T14:30:01.910784Z"
    }
   },
   "outputs": [
    {
     "data": {
      "text/plain": [
       "True"
      ]
     },
     "execution_count": 3,
     "metadata": {},
     "output_type": "execute_result"
    }
   ],
   "source": [
    "dataset_dir = \"../Image-Classification/orig_dataset/\"\n",
    "os.path.exists(dataset_dir)"
   ]
  },
  {
   "cell_type": "code",
   "execution_count": 4,
   "id": "5319b5bd",
   "metadata": {
    "ExecuteTime": {
     "end_time": "2021-07-15T14:30:02.702647Z",
     "start_time": "2021-07-15T14:30:02.696710Z"
    }
   },
   "outputs": [
    {
     "data": {
      "text/plain": [
       "['Apple',\n",
       " 'Pear',\n",
       " 'Pomegranate',\n",
       " 'StarFruit',\n",
       " 'Tomatoes',\n",
       " 'Kiwi',\n",
       " 'Guava',\n",
       " 'Plum',\n",
       " 'Mango',\n",
       " 'Muskmelon',\n",
       " 'Banana',\n",
       " 'DragonFruit',\n",
       " 'Persimmon',\n",
       " 'Orange',\n",
       " 'Peach']"
      ]
     },
     "execution_count": 4,
     "metadata": {},
     "output_type": "execute_result"
    }
   ],
   "source": [
    "[folder for folder in os.listdir(dataset_dir) if os.path.isdir(os.path.join(dataset_dir, folder))]"
   ]
  },
  {
   "cell_type": "markdown",
   "id": "6e15d9c6",
   "metadata": {},
   "source": [
    "#### Check files in each subfolder:"
   ]
  },
  {
   "cell_type": "code",
   "execution_count": 5,
   "id": "0b97b0b8",
   "metadata": {
    "ExecuteTime": {
     "end_time": "2021-07-15T14:30:07.795271Z",
     "start_time": "2021-07-15T14:30:07.429208Z"
    }
   },
   "outputs": [
    {
     "data": {
      "text/plain": [
       "{'', '.jpeg', '.jpg', '.png'}"
      ]
     },
     "execution_count": 5,
     "metadata": {},
     "output_type": "execute_result"
    }
   ],
   "source": [
    "# File extensions:\n",
    "\n",
    "set([\n",
    "    os.path.splitext(file)[-1] for folder in os.listdir(dataset_dir)\n",
    "    if os.path.isdir(dataset_dir + folder)\n",
    "    for file in os.listdir(os.path.join(dataset_dir, folder))\n",
    "])"
   ]
  },
  {
   "cell_type": "code",
   "execution_count": 7,
   "id": "083c6f5b",
   "metadata": {
    "ExecuteTime": {
     "end_time": "2021-07-15T14:30:21.317278Z",
     "start_time": "2021-07-15T14:30:21.198073Z"
    },
    "scrolled": true
   },
   "outputs": [],
   "source": [
    "# No. of images per fruit/class:\n",
    "\n",
    "fruit_list = dict(\n",
    "    zip([\n",
    "        folder for folder in os.listdir(dataset_dir)\n",
    "        if os.path.isdir(dataset_dir + folder)\n",
    "    ], [\n",
    "        len([\n",
    "            img for img in os.listdir(dataset_dir + folder)\n",
    "            if os.path.splitext(dataset_dir + folder +\n",
    "                                img)[-1] in ['.jpeg', '.jpg', '.png']\n",
    "        ]) for folder in os.listdir(dataset_dir)\n",
    "        if os.path.isdir(dataset_dir + folder)\n",
    "    ]))"
   ]
  },
  {
   "cell_type": "code",
   "execution_count": 8,
   "id": "0b376092",
   "metadata": {
    "ExecuteTime": {
     "end_time": "2021-07-15T14:30:23.737139Z",
     "start_time": "2021-07-15T14:30:23.498613Z"
    }
   },
   "outputs": [
    {
     "data": {
      "image/png": "[encoded data removed]",
      "text/plain": [
       "<Figure size 576x720 with 1 Axes>"
      ]
     },
     "metadata": {
      "needs_background": "light"
     },
     "output_type": "display_data"
    }
   ],
   "source": [
    "x = list(\n",
    "    dict(sorted(fruit_list.items(), key=lambda x: x[1], reverse=True)).keys())\n",
    "y = list(\n",
    "    dict(sorted(fruit_list.items(), key=lambda x: x[1],\n",
    "                reverse=True)).values())\n",
    "plt.figure(figsize=(8, 10))\n",
    "sns.barplot(x=y, y=x, palette='rainbow')\n",
    "plt.ylabel('fruits/classes', fontsize=15)\n",
    "plt.title('{} Images'.format(f'{sum(y):,}'), fontsize=15, color='blue')\n",
    "plt.xticks(ticks=[])\n",
    "plt.xlim(right=6000)\n",
    "plt.yticks(fontsize=13)\n",
    "for x_, y_ in enumerate(y):\n",
    "    plt.text(x=y_ + 200,\n",
    "             y=x_,\n",
    "             s=f'{y_:,}',\n",
    "             fontsize=13,\n",
    "             color='blue',\n",
    "             horizontalalignment='left',\n",
    "             verticalalignment='center')\n",
    "plt.show()"
   ]
  },
  {
   "cell_type": "markdown",
   "id": "41fd082a",
   "metadata": {},
   "source": [
    "#### Create new folder for the dataset with train and test subfolders:"
   ]
  },
  {
   "cell_type": "code",
   "execution_count": 9,
   "id": "a6045f8a",
   "metadata": {
    "ExecuteTime": {
     "end_time": "2021-07-15T14:31:12.688852Z",
     "start_time": "2021-07-15T14:31:08.399937Z"
    }
   },
   "outputs": [
    {
     "data": {
      "text/plain": [
       "['test', 'others', 'train']"
      ]
     },
     "execution_count": 9,
     "metadata": {},
     "output_type": "execute_result"
    }
   ],
   "source": [
    "new_dataset_dir = \"../Image-Classification/dataset/\"\n",
    "\n",
    "if os.path.exists(new_dataset_dir):\n",
    "    shutil.rmtree(new_dataset_dir)\n",
    "\n",
    "if not os.path.exists(new_dataset_dir):\n",
    "    os.mkdir(new_dataset_dir)\n",
    "\n",
    "for folder in ['train', 'test', 'others']:\n",
    "    new_dir = os.path.join(new_dataset_dir, folder)\n",
    "    os.mkdir(new_dir)\n",
    "\n",
    "os.listdir(new_dataset_dir)"
   ]
  },
  {
   "cell_type": "markdown",
   "id": "093d3c5f",
   "metadata": {},
   "source": [
    "#### Copy images under each fruit folder to the new dataset folder:"
   ]
  },
  {
   "cell_type": "code",
   "execution_count": 10,
   "id": "b0b1cabe",
   "metadata": {
    "ExecuteTime": {
     "end_time": "2021-07-15T14:34:28.497051Z",
     "start_time": "2021-07-15T14:33:05.839193Z"
    }
   },
   "outputs": [
    {
     "name": "stdout",
     "output_type": "stream",
     "text": [
      "Apple: 75 images to train folder, 25 images to test folder\n",
      "Pear: 75 images to train folder, 25 images to test folder\n",
      "Pomegranate: 75 images to train folder, 25 images to test folder\n",
      "Starfruit: 75 images to train folder, 25 images to test folder\n",
      "Tomatoes: 75 images to train folder, 25 images to test folder\n",
      "Kiwi: 75 images to train folder, 25 images to test folder\n",
      "Guava: 75 images to train folder, 25 images to test folder\n",
      "Plum: 75 images to train folder, 25 images to test folder\n",
      "Mango: 75 images to train folder, 25 images to test folder\n",
      "Muskmelon: 75 images to train folder, 25 images to test folder\n",
      "Banana: 75 images to train folder, 25 images to test folder\n",
      "Dragonfruit: 75 images to train folder, 25 images to test folder\n",
      "Persimmon: 75 images to train folder, 25 images to test folder\n",
      "Orange: 75 images to train folder, 25 images to test folder\n",
      "Peach: 75 images to train folder, 25 images to test folder\n"
     ]
    }
   ],
   "source": [
    "# Taking a small portion of the dataset due to limited resources\n",
    "sample_size = 100\n",
    "\n",
    "for key, val in fruit_list.items():\n",
    "    old_dir = os.path.join(dataset_dir, key)\n",
    "    img_files = [\n",
    "        img for img in os.listdir(old_dir)\n",
    "        if any(img.lower().endswith(i) for i in ['.jpeg', '.jpg', '.png'])\n",
    "    ]\n",
    "    train_dir = os.path.join(new_dataset_dir, \"train\", key)\n",
    "    os.mkdir(train_dir)\n",
    "    test_dir = os.path.join(new_dataset_dir, \"test\", key)\n",
    "    os.mkdir(test_dir)\n",
    "    others_dir = os.path.join(new_dataset_dir, \"others\", key)\n",
    "    os.mkdir(others_dir)\n",
    "\n",
    "    random.shuffle(img_files)\n",
    "    random.shuffle(img_files)\n",
    "    random.shuffle(img_files)\n",
    "    j, k = 0, 0\n",
    "    for i in range(len(img_files)):\n",
    "        if i < sample_size * 0.75:\n",
    "            shutil.copy(os.path.join(old_dir, img_files[i]),\n",
    "                        os.path.join(train_dir, img_files[i]))\n",
    "            j += 1\n",
    "        elif i < sample_size:\n",
    "            shutil.copy(os.path.join(old_dir, img_files[i]),\n",
    "                        os.path.join(test_dir, img_files[i]))\n",
    "            k += 1\n",
    "        else:\n",
    "            shutil.copy(os.path.join(old_dir, img_files[i]),\n",
    "                        os.path.join(others_dir, img_files[i]))\n",
    "    print('{}: {} images to train folder, {} images to test folder'.format(\n",
    "        key.title(), f'{j:,}', f'{k:,}'))\n",
    "\n",
    "#     train_files = random.choices(img_files, k=1000)\n",
    "#     test_files = [\n",
    "#         img for img in img_files\n",
    "#         if any(img.lower().endswith(i)\n",
    "#                for i in ['.jpeg', '.jpg', '.png']) and img not in train_files\n",
    "#     ]\n",
    "#     for img in train_files:\n",
    "#         shutil.copy(os.path.join(old_dir, img), os.path.join(train_dir, img))\n",
    "#     for img in test_files:\n",
    "#         shutil.copy(os.path.join(old_dir, img), os.path.join(test_dir, img))\n",
    "\n",
    "#     i = 0\n",
    "#     for img in train_files:\n",
    "#         if len(os.listdir(train_dir)) == 75:\n",
    "#             break\n",
    "#         try:\n",
    "#             shutil.copy(os.path.join(old_dir, img),\n",
    "#                         os.path.join(train_dir, img))\n",
    "#             i += 1\n",
    "#         except:\n",
    "#             continue\n",
    "\n",
    "#     i = 0\n",
    "#     for img in test_files:\n",
    "#         if len(os.listdir(test_dir)) == 25:\n",
    "#             break\n",
    "#         try:\n",
    "#             shutil.copy(os.path.join(old_dir, img),\n",
    "#                         os.path.join(test_dir, img))\n",
    "#             i += 1\n",
    "#         except:\n",
    "#             continue"
   ]
  },
  {
   "cell_type": "code",
   "execution_count": null,
   "id": "522521ca",
   "metadata": {},
   "outputs": [],
   "source": []
  }
 ],
 "metadata": {
  "kernelspec": {
   "display_name": "Python [conda env:root] *",
   "language": "python",
   "name": "conda-root-py"
  },
  "language_info": {
   "codemirror_mode": {
    "name": "ipython",
    "version": 3
   },
   "file_extension": ".py",
   "mimetype": "text/x-python",
   "name": "python",
   "nbconvert_exporter": "python",
   "pygments_lexer": "ipython3",
   "version": "3.7.3"
  },
  "toc": {
   "base_numbering": 1,
   "nav_menu": {},
   "number_sections": false,
   "sideBar": true,
   "skip_h1_title": false,
   "title_cell": "Table of Contents",
   "title_sidebar": "Contents",
   "toc_cell": false,
   "toc_position": {
    "height": "calc(100% - 180px)",
    "left": "10px",
    "top": "150px",
    "width": "336px"
   },
   "toc_section_display": true,
   "toc_window_display": false
  },
  "varInspector": {
   "cols": {
    "lenName": 16,
    "lenType": 16,
    "lenVar": 40
   },
   "kernels_config": {
    "python": {
     "delete_cmd_postfix": "",
     "delete_cmd_prefix": "del ",
     "library": "var_list.py",
     "varRefreshCmd": "print(var_dic_list())"
    },
    "r": {
     "delete_cmd_postfix": ") ",
     "delete_cmd_prefix": "rm(",
     "library": "var_list.r",
     "varRefreshCmd": "cat(var_dic_list()) "
    }
   },
   "types_to_exclude": [
    "module",
    "function",
    "builtin_function_or_method",
    "instance",
    "_Feature"
   ],
   "window_display": false
  }
 },
 "nbformat": 4,
 "nbformat_minor": 5
}
