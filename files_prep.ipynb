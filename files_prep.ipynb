{
  "nbformat": 4,
  "nbformat_minor": 5,
  "metadata": {
    "kernelspec": {
      "name": "python3",
      "display_name": "Python 3"
    },
    "toc": {
      "base_numbering": 1,
      "nav_menu": {},
      "number_sections": false,
      "sideBar": true,
      "skip_h1_title": false,
      "title_cell": "Table of Contents",
      "title_sidebar": "Contents",
      "toc_cell": false,
      "toc_position": {
        "height": "calc(100% - 180px)",
        "left": "10px",
        "top": "150px",
        "width": "336px"
      },
      "toc_section_display": true,
      "toc_window_display": false
    },
    "varInspector": {
      "cols": {
        "lenName": 16,
        "lenType": 16,
        "lenVar": 40
      },
      "kernels_config": {
        "python": {
          "delete_cmd_postfix": "",
          "delete_cmd_prefix": "del ",
          "library": "var_list.py",
          "varRefreshCmd": "print(var_dic_list())"
        },
        "r": {
          "delete_cmd_postfix": ") ",
          "delete_cmd_prefix": "rm(",
          "library": "var_list.r",
          "varRefreshCmd": "cat(var_dic_list()) "
        }
      },
      "types_to_exclude": [
        "module",
        "function",
        "builtin_function_or_method",
        "instance",
        "_Feature"
      ],
      "window_display": false
    },
    "colab": {
      "name": "files_prep.ipynb",
      "provenance": []
    },
    "accelerator": "GPU",
    "language_info": {
      "name": "python"
    }
  },
  "cells": [
    {
      "cell_type": "markdown",
      "metadata": {
        "id": "a6530117"
      },
      "source": [
        "#### From Author:\n",
        "\n",
        "##### Folder structure\n",
        "There are 15 different kind of fruits consisting of 44406 images. For 15 different categories\n",
        "there are 15 folders in our dataset and their sub-categories of fruits were kept in sub-folders like\n",
        "for apple there is one folder and inside the main folder there are six sub-folders for subcategories.\n",
        "Sub-categories of all fruits are exit in their relevant sub-folders\n",
        "\n",
        "##### Data collection\n",
        "The database used in this study is comprising of 44406 fruit images, which we collected\n",
        "in a period of 6 months. The images where made with in our lab’s environment under different\n",
        "scenarios which we mention below. We captured all the images on a clear background with\n",
        "resolution of 320×258 pixels. We used HD Logitech web camera to took the pictures. During\n",
        "collecting this database, we created all kind of challenges, which, we have to face in real-world\n",
        "recognition scenarios in supermarket and fruit shops such as light, shadow, sunshine, pose\n",
        "variation, to make our model robust for, it might be necessary to cope with illumination\n",
        "variation, camera capturing artifacts, specular reflection shading and shadows. We tested our\n",
        "model’s robustness in all scenarios and it perform quit well.\n",
        "All of images were stored in RGB color-space at 8 bits per channel. The images were\n",
        "gathered at various day times of the day and in different days for the same category. These\n",
        "features increase the dataset variability and represent more realistic scenario. The Images had\n",
        "large variation in quality and lighting. Illumination is one of those variations in imagery. In fact,\n",
        "illumination can make two images of same fruit less similar than two images of different kind\n",
        "of fruits. We were used our own intelligent weight machine and camera to captured all images.\n",
        "The fruit dataset was collected under relatively unconstrained conditions. There are also images\n",
        "with the room light on and room lights off, moved the camera and intelligent weight machine\n",
        "near to the windows of our lab than open windows, closed windows, open window curtains,\n",
        "closed curtains. For a real application in a supermarket, it might be necessary to cope with\n",
        "illumination variation, camera capturing artifacts, specular reflection shading and shadows.\n",
        "Below are the few conditions which we were considered during collected dataset.\n",
        "\n",
        "##### Pose Variations with different categories of fruits\n",
        "- Variability on the number of elements of fruits\n",
        "- Used HD camera with 5-megapixel snapshots\n",
        "- Same color but different Category fruits images with illumination variation\n",
        "- Cropping and partial occlusion\n",
        "- Different color same category fruit images\n",
        "- Different lighting conditions (e.g. fluorescent, natural light some of the fruits shops\n",
        "- and supermarkets are without sunshine so it can easily affect the recognition system\n",
        "- Six different kind of apple fruit images\n",
        "- Three categories of mango fruit with specular reflecting shading and shadows\n",
        "- Three categories of Kiwi fruit images\n",
        "- Natural and artificial lighting effect on images\n",
        "- Partial occlusion with hand\n",
        "\n",
        "Israr Hussain,, Qianhua He, Zhuliang Chen, & Wei Xie. (2018). Fruit Recognition dataset (Version V 1.0) [Data set]. Zenodo. http://doi.org/10.5281/zenodo.1310165"
      ],
      "id": "a6530117"
    },
    {
      "cell_type": "code",
      "metadata": {
        "colab": {
          "base_uri": "https://localhost:8080/"
        },
        "id": "OCK5u_2CN2MT",
        "outputId": "3d9050d2-50f3-4854-f346-2c9647a99a41"
      },
      "source": [
        "from google.colab import drive\n",
        "drive.mount('/content/drive')"
      ],
      "id": "OCK5u_2CN2MT",
      "execution_count": 1,
      "outputs": [
        {
          "output_type": "stream",
          "text": [
            "Mounted at /content/drive\n"
          ],
          "name": "stdout"
        }
      ]
    },
    {
      "cell_type": "code",
      "metadata": {
        "ExecuteTime": {
          "end_time": "2021-07-15T14:29:47.582653Z",
          "start_time": "2021-07-15T14:29:47.580127Z"
        },
        "id": "b824df4b"
      },
      "source": [
        "import os\n",
        "import shutil\n",
        "import random"
      ],
      "id": "b824df4b",
      "execution_count": 2,
      "outputs": []
    },
    {
      "cell_type": "code",
      "metadata": {
        "ExecuteTime": {
          "end_time": "2021-07-15T14:29:51.240141Z",
          "start_time": "2021-07-15T14:29:49.983233Z"
        },
        "id": "f390a657"
      },
      "source": [
        "%matplotlib inline\n",
        "import matplotlib.pyplot as plt\n",
        "import matplotlib.image as mpimg\n",
        "import seaborn as sns"
      ],
      "id": "f390a657",
      "execution_count": 3,
      "outputs": []
    },
    {
      "cell_type": "code",
      "metadata": {
        "ExecuteTime": {
          "end_time": "2021-07-15T14:30:01.916125Z",
          "start_time": "2021-07-15T14:30:01.910784Z"
        },
        "colab": {
          "base_uri": "https://localhost:8080/"
        },
        "id": "7cbe82d7",
        "outputId": "ed7aaeb7-7df7-4146-d649-9ce1d0aabae6"
      },
      "source": [
        "# dataset_dir = \"../Image-Classification/orig_dataset/\"\n",
        "dataset_dir = \"/content/drive/MyDrive/colab/orig_dataset\"\n",
        "os.path.exists(dataset_dir)"
      ],
      "id": "7cbe82d7",
      "execution_count": 4,
      "outputs": [
        {
          "output_type": "execute_result",
          "data": {
            "text/plain": [
              "True"
            ]
          },
          "metadata": {
            "tags": []
          },
          "execution_count": 4
        }
      ]
    },
    {
      "cell_type": "code",
      "metadata": {
        "ExecuteTime": {
          "end_time": "2021-07-15T14:30:02.702647Z",
          "start_time": "2021-07-15T14:30:02.696710Z"
        },
        "colab": {
          "base_uri": "https://localhost:8080/"
        },
        "id": "5319b5bd",
        "outputId": "e7576895-d7a3-4cd1-db07-7fc5fbbbefd3"
      },
      "source": [
        "fruit_folders = [folder for folder in os.listdir(dataset_dir) if os.path.isdir(os.path.join(dataset_dir, folder))]\n",
        "fruit_folders"
      ],
      "id": "5319b5bd",
      "execution_count": 5,
      "outputs": [
        {
          "output_type": "execute_result",
          "data": {
            "text/plain": [
              "['Banana',\n",
              " 'StarFruit',\n",
              " 'Mango',\n",
              " 'Orange',\n",
              " 'Peach',\n",
              " 'Persimmon',\n",
              " 'DragonFruit',\n",
              " 'Plum',\n",
              " 'Pomegranate',\n",
              " 'Tomatoes',\n",
              " 'Muskmelon',\n",
              " 'Guava',\n",
              " 'Kiwi',\n",
              " 'Pear',\n",
              " 'Apple']"
            ]
          },
          "metadata": {
            "tags": []
          },
          "execution_count": 5
        }
      ]
    },
    {
      "cell_type": "markdown",
      "metadata": {
        "id": "6e15d9c6"
      },
      "source": [
        "#### Check files in each subfolder:"
      ],
      "id": "6e15d9c6"
    },
    {
      "cell_type": "code",
      "metadata": {
        "ExecuteTime": {
          "end_time": "2021-07-15T14:30:07.795271Z",
          "start_time": "2021-07-15T14:30:07.429208Z"
        },
        "colab": {
          "base_uri": "https://localhost:8080/"
        },
        "id": "0b97b0b8",
        "outputId": "6efe56ca-5fdd-40cc-980e-b75af36819e1"
      },
      "source": [
        "# File extensions:\n",
        "\n",
        "set([\n",
        "    file.split('.')[-1] for folder in fruit_folders\n",
        "    for file in os.listdir(os.path.join(dataset_dir, folder))\n",
        "])"
      ],
      "id": "0b97b0b8",
      "execution_count": 6,
      "outputs": [
        {
          "output_type": "execute_result",
          "data": {
            "text/plain": [
              "{'jpeg', 'jpg', 'png'}"
            ]
          },
          "metadata": {
            "tags": []
          },
          "execution_count": 6
        }
      ]
    },
    {
      "cell_type": "code",
      "metadata": {
        "ExecuteTime": {
          "end_time": "2021-07-15T14:30:21.317278Z",
          "start_time": "2021-07-15T14:30:21.198073Z"
        },
        "scrolled": true,
        "id": "083c6f5b"
      },
      "source": [
        "# No. of images per fruit/class:\n",
        "\n",
        "fruit_list = dict(\n",
        "    zip([\n",
        "        folder for folder in fruit_folders\n",
        "    ], [\n",
        "        len([\n",
        "            img for img in os.listdir(os.path.join(dataset_dir, folder))\n",
        "            if os.path.splitext(dataset_dir + folder +\n",
        "                                img)[-1] in ['.jpeg', '.jpg', '.png']\n",
        "        ]) for folder in fruit_folders\n",
        "    ]))"
      ],
      "id": "083c6f5b",
      "execution_count": 7,
      "outputs": []
    },
    {
      "cell_type": "code",
      "metadata": {
        "ExecuteTime": {
          "end_time": "2021-07-15T14:30:23.737139Z",
          "start_time": "2021-07-15T14:30:23.498613Z"
        },
        "colab": {
          "base_uri": "https://localhost:8080/",
          "height": 596
        },
        "id": "0b376092",
        "outputId": "350619ac-dcf9-462a-8b80-c200062995a2"
      },
      "source": [
        "x = list(\n",
        "    dict(sorted(fruit_list.items(), key=lambda x: x[1], reverse=True)).keys())\n",
        "y = list(\n",
        "    dict(sorted(fruit_list.items(), key=lambda x: x[1],\n",
        "                reverse=True)).values())\n",
        "plt.figure(figsize=(8, 10))\n",
        "sns.barplot(x=y, y=x, palette='rainbow')\n",
        "plt.ylabel('fruits/classes', fontsize=15)\n",
        "plt.title('{} Images'.format(f'{sum(y):,}'), fontsize=15, color='blue')\n",
        "plt.xticks(ticks=[])\n",
        "plt.xlim(right=6000)\n",
        "plt.yticks(fontsize=13)\n",
        "for x_, y_ in enumerate(y):\n",
        "    plt.text(x=y_ + 200,\n",
        "             y=x_,\n",
        "             s=f'{y_:,}',\n",
        "             fontsize=13,\n",
        "             color='blue',\n",
        "             horizontalalignment='left',\n",
        "             verticalalignment='center')\n",
        "plt.show()"
      ],
      "id": "0b376092",
      "execution_count": 8,
      "outputs": [
        {
          "output_type": "display_data",
          "data": {
            "image/png": "[encoded data removed]",
            "text/plain": [
              "<Figure size 576x720 with 1 Axes>"
            ]
          },
          "metadata": {
            "tags": [],
            "needs_background": "light"
          }
        }
      ]
    },
    {
      "cell_type": "markdown",
      "metadata": {
        "id": "41fd082a"
      },
      "source": [
        "#### Create new folder for the dataset with train and test subfolders:"
      ],
      "id": "41fd082a"
    },
    {
      "cell_type": "code",
      "metadata": {
        "ExecuteTime": {
          "end_time": "2021-07-15T14:31:12.688852Z",
          "start_time": "2021-07-15T14:31:08.399937Z"
        },
        "colab": {
          "base_uri": "https://localhost:8080/"
        },
        "id": "a6045f8a",
        "outputId": "8062f74d-f228-44bb-c5a6-44d4f19aa835"
      },
      "source": [
        "# new_dataset_dir = \"../Image-Classification/dataset/\"\n",
        "new_dataset_dir = \"/content/drive/MyDrive/colab/dataset/\"\n",
        "\n",
        "if os.path.exists(new_dataset_dir):\n",
        "    shutil.rmtree(new_dataset_dir)\n",
        "\n",
        "if not os.path.exists(new_dataset_dir):\n",
        "    os.mkdir(new_dataset_dir)\n",
        "\n",
        "for folder in ['train', 'test']:\n",
        "    new_dir = os.path.join(new_dataset_dir, folder)\n",
        "    os.mkdir(new_dir)\n",
        "\n",
        "os.listdir(new_dataset_dir)"
      ],
      "id": "a6045f8a",
      "execution_count": 10,
      "outputs": [
        {
          "output_type": "execute_result",
          "data": {
            "text/plain": [
              "['train', 'test']"
            ]
          },
          "metadata": {
            "tags": []
          },
          "execution_count": 10
        }
      ]
    },
    {
      "cell_type": "markdown",
      "metadata": {
        "id": "093d3c5f"
      },
      "source": [
        "#### Copy images under each fruit folder to the new dataset folder:"
      ],
      "id": "093d3c5f"
    },
    {
      "cell_type": "code",
      "metadata": {
        "ExecuteTime": {
          "end_time": "2021-07-15T14:34:28.497051Z",
          "start_time": "2021-07-15T14:33:05.839193Z"
        },
        "colab": {
          "base_uri": "https://localhost:8080/"
        },
        "id": "b0b1cabe",
        "outputId": "f7c9fe8b-cf23-4611-e6cc-0fb5774857ff"
      },
      "source": [
        "# 75% to train, 25% to test\n",
        "sample_size = 500\n",
        "\n",
        "for key, val in fruit_list.items():\n",
        "    old_dir = os.path.join(dataset_dir, key)\n",
        "    img_files = [\n",
        "        img for img in os.listdir(old_dir)\n",
        "        if any(img.lower().endswith(i) for i in ['.jpeg', '.jpg', '.png'])\n",
        "    ]\n",
        "    train_dir = os.path.join(new_dataset_dir, \"train\", key)\n",
        "    os.mkdir(train_dir)\n",
        "    test_dir = os.path.join(new_dataset_dir, \"test\", key)\n",
        "    os.mkdir(test_dir)\n",
        "\n",
        "    random.shuffle(img_files)\n",
        "    random.shuffle(img_files)\n",
        "    random.shuffle(img_files)\n",
        "    j, k = 0, 0\n",
        "    \n",
        "    for i in range(sample_size):\n",
        "        if i < sample_size * 0.75:\n",
        "            shutil.copy(os.path.join(old_dir, img_files[i]),\n",
        "                        os.path.join(train_dir, img_files[i]))\n",
        "            j += 1\n",
        "        else:\n",
        "            shutil.copy(os.path.join(old_dir, img_files[i]),\n",
        "                        os.path.join(test_dir, img_files[i]))\n",
        "            k += 1\n",
        "        \n",
        "    print('{}: {} images to train folder, {} images to test folder'.format(\n",
        "        key.title(), f'{j:,}', f'{k:,}'))\n"
      ],
      "id": "b0b1cabe",
      "execution_count": 13,
      "outputs": [
        {
          "output_type": "stream",
          "text": [
            "Banana: 375 images to train folder, 125 images to test folder\n",
            "Starfruit: 375 images to train folder, 125 images to test folder\n",
            "Mango: 375 images to train folder, 125 images to test folder\n",
            "Orange: 375 images to train folder, 125 images to test folder\n",
            "Peach: 375 images to train folder, 125 images to test folder\n",
            "Persimmon: 375 images to train folder, 125 images to test folder\n",
            "Dragonfruit: 375 images to train folder, 125 images to test folder\n",
            "Plum: 375 images to train folder, 125 images to test folder\n",
            "Pomegranate: 375 images to train folder, 125 images to test folder\n",
            "Tomatoes: 375 images to train folder, 125 images to test folder\n",
            "Muskmelon: 375 images to train folder, 125 images to test folder\n",
            "Guava: 375 images to train folder, 125 images to test folder\n",
            "Kiwi: 375 images to train folder, 125 images to test folder\n",
            "Pear: 375 images to train folder, 125 images to test folder\n",
            "Apple: 375 images to train folder, 125 images to test folder\n"
          ],
          "name": "stdout"
        }
      ]
    },
    {
      "cell_type": "code",
      "metadata": {
        "id": "522521ca"
      },
      "source": [
        ""
      ],
      "id": "522521ca",
      "execution_count": null,
      "outputs": []
    }
  ]
}